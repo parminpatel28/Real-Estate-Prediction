{
 "cells": [
  {
   "cell_type": "code",
   "execution_count": 1,
   "metadata": {},
   "outputs": [],
   "source": [
    "from flask import Flask, request \n",
    "from keras.models import load_model\n",
    "from keras import backend as K\n",
    "\n",
    "import numpy \n",
    "app = Flask(__name__)"
   ]
  },
  {
   "cell_type": "code",
   "execution_count": 2,
   "metadata": {},
   "outputs": [],
   "source": [
    "@app.route('/') \n",
    "def hello_world(): \n",
    "    return 'Index page'"
   ]
  },
  {
   "cell_type": "code",
   "execution_count": null,
   "metadata": {},
   "outputs": [],
   "source": [
    "@app.route('/predict', methods=['POST']) \n",
    "def add(): \n",
    "    req_data = request.get_json() \n",
    "     bizprop = req_data['bizprop'] \n",
    "    rooms = req_data['rooms'] \n",
    "    age = req_data['age'] \n",
    "    highways = req_data['highways'] \n",
    "    tax = req_data['tax'] \n",
    "    ptratio = req_data['ptratio'] \n",
    "    lstat = req_data['lstat'] \n",
    "    # This is where we load the actual saved model into new variable. \n",
    "    deep_and_wide_net = load_model('deep_and_wide_net.h5') \n",
    "    # Now we can use this to predict on new data \n",
    "    value = deep_and_wide_net.predict_on_batch(numpy.array([[bizprop, rooms, age  ,  highways   , tax   ,  ptratio  ,   lstat]], dtype=float)) \n",
    "    K.clear_session()\n",
    "\n",
    "    return str(value)"
   ]
  }
 ],
 "metadata": {
  "kernelspec": {
   "display_name": "Python 3",
   "language": "python",
   "name": "python3"
  },
  "language_info": {
   "codemirror_mode": {
    "name": "ipython",
    "version": 3
   },
   "file_extension": ".py",
   "mimetype": "text/x-python",
   "name": "python",
   "nbconvert_exporter": "python",
   "pygments_lexer": "ipython3",
   "version": "3.6.10"
  }
 },
 "nbformat": 4,
 "nbformat_minor": 4
}
